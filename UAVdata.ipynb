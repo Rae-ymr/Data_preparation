{
  "cells": [
    {
      "cell_type": "code",
      "execution_count": null,
      "metadata": {
        "colab": {
          "base_uri": "https://localhost:8080/"
        },
        "id": "sqy-ibkrV5C9",
        "outputId": "b09a3340-6c41-4b08-b40c-ccffa5c1d757"
      },
      "outputs": [
        {
          "output_type": "stream",
          "name": "stdout",
          "text": [
            "Drive already mounted at /content/drive; to attempt to forcibly remount, call drive.mount(\"/content/drive\", force_remount=True).\n"
          ]
        }
      ],
      "source": [
        "import pandas as pd\n",
        "from google.colab import drive\n",
        "import os\n",
        "import json\n",
        "drive.mount('/content/drive')\n",
        "path=\"/content/drive/MyDrive/Colab Notebooks/\"\n",
        "os.chdir(path)\n"
      ]
    },
    {
      "cell_type": "code",
      "execution_count": null,
      "metadata": {
        "id": "aCTY7mW0WiD3"
      },
      "outputs": [],
      "source": [
        "truth_file = open(\"./part1/groundtruth.json\", \"r\")\n",
        "dic = json.load(truth_file)[\"samples\"]\n",
        "objList = dict()\n",
        "parentPath = \"./datasets/coco/labels\""
      ]
    },
    {
      "cell_type": "code",
      "execution_count": null,
      "metadata": {
        "id": "J7_5QtTpv_ZC"
      },
      "outputs": [],
      "source": [
        "valid_flight_id=['part17037c8cf84124e2d985bf451533a10be', 'part12b93d24ee1c8471ba15cfb124ee9cc21', 'part1144be7cbb9684ba0897edc7e5f9b64f1', 'part1402c58901aa344a3984f2decd3215d6c', 'part14fa188b6924546c6b17de873af05c276', 'part10b973c387a034d37bfaec297d4679a97', 'part14f85d4ee39dd4e3a9e82562aa706e30b', 'part17c125a0d0fab45d29ed83b834fdc3d6f', 'part1122b9e3f96174697bfbb5493232bccf8', 'part136896b5ef22942dabea10cffa469fbc5', 'part15f6cd72ed9f94bc1aafa41dec850f61f', 'part11e57d696f9044b39acf0a89f9e934598', 'part1607dd361fe394bb3b8e5c9fc20ffd77c', 'part1128c4f848a2844fd8f750026710d1ddf', 'part15f0702b2194640e58ec5013db0c4beda', 'part106548fbfc5b840c8a2f9d8823bcc26b7', 'part1640517cea8bf4813ae183cda4809dc90', 'part174d911f4dc6249448d177e37b4b67552', 'part10716994d47e24bdca7ffa7da8a8000b2', 'part13d5cdaff8e454954b7087a4452c6e45a', 'part10ebab9c253404edd850a22d49b7a2792', 'part142b908568c2348fd9c9e670caf12c369', 'part16542d5b2e8644a649a220534a461bfa9', 'part10e2209ef0db7428babdb16bf211850fc', 'part17f345cc23b5b4ee5926982c87496eb85', 'part1374d832b976948819c7bfd4b0c799b91', 'part105594b7a2160418ba95f6ae10a77b860', 'part13739ddf0275e49cf92a690f66c4088b4', 'part102dc97afabca47338fc8097fd8236bb9', 'part1416fb672f83b45b299a5a0be52d76a7d', 'part1791ff8a9d37e46e0bd5f0a9328c1b18c', 'part182192158afe6411aa8dd3350d1d7851d', 'part132fc80b5a2b742fcab930e1323c18ab8', 'part109bb920f887e44b1bf00abdceba7104b', 'part111a72fb509b34e788833cea07666ecae', 'part12152f982f5bf41beb0e36e5d20b75fdc', 'part10317fe0622404ccb82a7d53d2a94ae63', 'part16c3e9fc08b2f4f07905758ef3c4f7ca7', 'part161b361ccb2774bc880b1be97f9588c71', 'part182c003b45857406b8eded5115cc0118d', 'part139516aac989044ae85642ff5a5a8142e', 'part12de4f40ba32d43b48fa8533b67cd0bf5', 'part11a38bc12c9574e37afc7dfe2ff3debf1', 'part167ddbe446fc64297b2127b464805f26c', 'part15df775ef1923437fa5f23808a0eebb64', 'part172994b39007f41b5aeb8e154a863a4b7', 'part1051376d5ab3e45eeba649fb18c8bcb14', 'part1649adc7fd0284052abed31873870b7fb', 'part14ba02983449f462d9ac0be7670dc9c14', 'part127abc65e06cc4d2b99ef828ec95497ed', 'part1833c7629f0ce437393bebfad4e86746b', 'part13424e09bc91c4ec684b6f572487ce4ca', 'part131e9c125e8c24da5843573ee0f4cada1', 'part12cf73ba4b3144cf4b3ddd7fee18c71ca', 'part162af6af3d53d4167b1c5c19a7f14da64', 'part14edfcb429e244b768e9fefc5ba27316e', 'part165ad8d603b214bdcb34dd34044d5db01', 'part12164ac6374154cd0b34e0447af219e38', 'part173a1a71385e042dd8771cc9e2db8cef3', 'part17500a2cfb83a41829a93cdbabc55d210', 'part17c1b103fa0c34d97a624ad99bf07be86', 'part1533f3a17c18841b787db084a1a0c012b', 'part115cdfaf6d65f4148bb1634dc4d767211', 'part1144c96bc33a942759515b1d4bf01012c', 'part167d0a819da764bfe8885ae6065b6c8e4', 'part16a86eb2606004b0c946c7d73249eefba', 'part127d8565b5170475a8f416b3c4c4e6add', 'part152dbe3b877494a38b718e292376b521f', 'part13fdccd2fe791475198076cbebd95a330', 'part15a6ec321921c468d9194cc1ace0c5030', 'part1227e822ffbcc4e05bdaeca6077a5242a', 'part1689dac6b6bb94395ab045dafa263d29f', 'part100abd24f03504ab58e25ccf857b4b3fb', 'part1128c8cd347954061a5c9ddabed0bf627', 'part10a51efbf46b8441ab475d9b7732d19aa', 'part100c28c5653b04bda9c6cfc255ac06494', 'part160bd1e09bb884ff78bd35233cba3d289', 'part1085169eb70d440deb92881f74f837479', 'part13cf9fc8531534a52a4b33154c83491db', 'part1032b126da4eb4c58aa459e671c11f56b', 'part16e346ad69ffa45d39363884dbb7d5bab', 'part100bb96a5a68f4fa5bc5c5dc66ce314d2', 'part140e5c83a77fb4c2c9b000856aa38ee46', 'part12cde6601968e4ca5872f8b52acf15f79', 'part13a8120ce40cb42d28890498ffc34c34f', 'part15884bb9e2db24e7eae710f23ea6f3e08', 'part10b614e18b994435695ef7f56c50a2626', 'part158ffc89c1e1941c1ba0f176270e11844', 'part15e28e951488f4132904da83783f3b3b8', 'part17feb0c6271064cce82780845cad46c53', 'part1806f4ee914e9467cb1ab9cf9a061ff99', 'part17ed4ea423ea64f96bf5366a155e86f55', 'part14e76a8826a7a4594b375f36c94f3b897', 'part15b8eb9d1e95f4ecfb1f0648e708d512d', 'part163cd45cff8a743e393eca69413a870ae', 'part165216ca371e94a78a620cded690dac2d', 'part102288483ea75493bb5fb44c87c7edc99', 'part1844a7411d5a3489ab990568163bbe635', 'part169a2e10cafd84569a7ab51c0430283a6', 'part12c772d79839f4236949b577ca0df0dec', 'part10981ec2cccc1415b80c0e3c4a07226cd', 'part12171ebf144174595b00edcba8cf91950', 'part11cd05e095fc2433bb1d8abf549f0cc17', 'part1511936a0f46a4e0ab22e9d074abcd1ef', 'part150cf46fdc853429ababadbe44a14efda', 'part11c0fea32321449c0a15e01a52d26adb7', 'part11d94e7230db3404389e8cba84f78e204', 'part11f45b656786c43e28891e72210640683', 'part13ed03f307eab44c3a9715dbc36b40922', 'part1516e688f6ea44e099e03c74be27d1054', 'part18209b61075cb4f828c611283b81782ea', 'part131ff7ddbc8e94c8e8a4013f5fe2d0453', 'part182ff7e34f5664e0fa32b2a274e28bf93', 'part14e771a04483649f9b97232cdbf895ea1', 'part11cadf708986b49049a60fe786fcc13cb', 'part13e4518010a31495fab99d7e3801f82cd', 'part12f9c64debd874402acc55c94ade5f1c1', 'part169a327de963c4cda81e81b4eef71f0eb', 'part11ecb0eaaeb9f4572905331c8c2c258d5', 'part124fefcc96f264a879b9254b2b7e9afac', 'part14f108fed6b9e428383f6b2214b630509', 'part163fcfe0fe3f749ef8439adfc9fd008af', 'part17fe1e8ad60f745cfb12740cccb65b6a0', 'part152ca273826a94537ac62fbde4e609ece', 'part10f9897e523a94b1f990f67983e0fefc5', 'part114b1d1e39bc84946adf6c583c5aba01b', 'part13e7c14aca91f4a7f81c61e44bc4fad6f', 'part15a230c3a9794469ab961e4b90cfdab3a', 'part10bcda9bd5f224d39a6703dd3cb2a9991', 'part10719bb6ee14542b3ab82f725d6c576ce', 'part18185d2cf2be3476284b26231889c369a', 'part17eaa5406d1e94312a4c80bfee1c2083f', 'part11e2abff6960c47b79ec46e6283f218c8', 'part101a7a84b9226468bbb7f88d483c3e996', 'part10890b16bcf0946658e4406bafedf8a09', 'part119c926b7d3b8401eac0e08f87644af5a', 'part12ae5767ac94647cd8063da160a1a1537', 'part159e37841f5394c1497566753ba15172d', 'part10e41e42e366b4b3787003c03331bbde0', 'part13021b6970a264b0a9f251f4c6c08f900', 'part1171e6cd7c7284bbfbc17e35b7c3cb598', 'part149f4d9ca19004b81b905db6acab3d7d8', 'part129fc42b624f1414ca28631929edd6c36', 'part1594bca9ad6fe4daa9f3df44c0b5e0775', 'part15b8bf7adcfac45a19c1717a6a5eaf367', 'part17faa1c86f3474f0282c275493180cd40', 'part15049a86d4f2c4c1f9dc747138d705d61', 'part13af19412538e4789a75544735d3f167a', 'part10d1b1aa1b092427f80a665ac42bfaeff', 'part10fc39fa8996b42fcb5b5ead26a3f0a86', 'part12a1fa42a1c9049b8ba89d2934b734d34', 'part1313157ab825a4bdeb62318b46882c1c2', 'part12a2f777afdf14fd48612063f9ee448c0', 'part150ba7b226ad84f1b87cc5361bb9ce4c9', 'part175362a3583804405a89633ace1509ea4', 'part10036dcc16c474b1abaf14d1735a7e1cf', 'part109cced82f3524903996ada8f09d56c80', 'part137f3f9429ccc494c9243b1fa43997236', 'part1570826a12876427ca77c045424de1f51', 'part14a35fde89d6c42cea237d5439ab619bb', 'part14667f6fa157946f1989fba451cfa5972', 'part16a16917d0c254ef7936b316ead375ab2', 'part11cc8cb8ff89647af91f98b3ee433bfef', 'part151e48966916042e09025036ba45bf4b3', 'part16ecc41f1f9d14e459bbb15712e2d34df', 'part15f332c553b3d43f1963494e9b1913e1e', 'part131fcb7ebcc2249778e5a5abd3c5d38c3', 'part1611508392db24cbea9ade2f10a688a94', 'part10491a31cb1464c0e8151d5136084ac0b', 'part177bc194ea1444c6cb3705844c39b15d9', 'part12e5011ded15a4222a04ffa4dcb685ed6', 'part1420d39f8458c4c028946d1bee899e9a2']\n",
        "test_flight_id=['part13d5cdaff8e454954b7087a4452c6e45a', 'part1128c8cd347954061a5c9ddabed0bf627', 'part17c1b103fa0c34d97a624ad99bf07be86', 'part15a6ec321921c468d9194cc1ace0c5030', 'part15884bb9e2db24e7eae710f23ea6f3e08', 'part100bb96a5a68f4fa5bc5c5dc66ce314d2', 'part10e41e42e366b4b3787003c03331bbde0', 'part10ebab9c253404edd850a22d49b7a2792', 'part12152f982f5bf41beb0e36e5d20b75fdc', 'part161b361ccb2774bc880b1be97f9588c71', 'part17500a2cfb83a41829a93cdbabc55d210', 'part169a2e10cafd84569a7ab51c0430283a6', 'part182c003b45857406b8eded5115cc0118d', 'part162af6af3d53d4167b1c5c19a7f14da64', 'part1640517cea8bf4813ae183cda4809dc90', 'part11d94e7230db3404389e8cba84f78e204', 'part150cf46fdc853429ababadbe44a14efda', 'part13a8120ce40cb42d28890498ffc34c34f', 'part15f332c553b3d43f1963494e9b1913e1e', 'part124fefcc96f264a879b9254b2b7e9afac', 'part109cced82f3524903996ada8f09d56c80', 'part106548fbfc5b840c8a2f9d8823bcc26b7', 'part131e9c125e8c24da5843573ee0f4cada1', 'part11f45b656786c43e28891e72210640683', 'part12c772d79839f4236949b577ca0df0dec', 'part10b973c387a034d37bfaec297d4679a97', 'part1844a7411d5a3489ab990568163bbe635', 'part17fe1e8ad60f745cfb12740cccb65b6a0', 'part12b93d24ee1c8471ba15cfb124ee9cc21', 'part1806f4ee914e9467cb1ab9cf9a061ff99', 'part160bd1e09bb884ff78bd35233cba3d289', 'part13af19412538e4789a75544735d3f167a', 'part10d1b1aa1b092427f80a665ac42bfaeff', 'part159e37841f5394c1497566753ba15172d', 'part165ad8d603b214bdcb34dd34044d5db01', 'part10f9897e523a94b1f990f67983e0fefc5', 'part150ba7b226ad84f1b87cc5361bb9ce4c9', 'part10491a31cb1464c0e8151d5136084ac0b', 'part131ff7ddbc8e94c8e8a4013f5fe2d0453', 'part12ae5767ac94647cd8063da160a1a1537', 'part17c125a0d0fab45d29ed83b834fdc3d6f', 'part1171e6cd7c7284bbfbc17e35b7c3cb598', 'part10b614e18b994435695ef7f56c50a2626', 'part1511936a0f46a4e0ab22e9d074abcd1ef', 'part11a38bc12c9574e37afc7dfe2ff3debf1', 'part13021b6970a264b0a9f251f4c6c08f900', 'part16a16917d0c254ef7936b316ead375ab2', 'part169a327de963c4cda81e81b4eef71f0eb', 'part137f3f9429ccc494c9243b1fa43997236', 'part1032b126da4eb4c58aa459e671c11f56b', 'part13fdccd2fe791475198076cbebd95a330', 'part1402c58901aa344a3984f2decd3215d6c', 'part12f9c64debd874402acc55c94ade5f1c1', 'part1833c7629f0ce437393bebfad4e86746b', 'part100c28c5653b04bda9c6cfc255ac06494', 'part100abd24f03504ab58e25ccf857b4b3fb', 'part175362a3583804405a89633ace1509ea4', 'part14f108fed6b9e428383f6b2214b630509', 'part15f6cd72ed9f94bc1aafa41dec850f61f', 'part140e5c83a77fb4c2c9b000856aa38ee46', 'part1570826a12876427ca77c045424de1f51', 'part174d911f4dc6249448d177e37b4b67552', 'part114b1d1e39bc84946adf6c583c5aba01b', 'part10e2209ef0db7428babdb16bf211850fc', 'part14f85d4ee39dd4e3a9e82562aa706e30b', 'part109bb920f887e44b1bf00abdceba7104b', 'part14ba02983449f462d9ac0be7670dc9c14', 'part12de4f40ba32d43b48fa8533b67cd0bf5', 'part13739ddf0275e49cf92a690f66c4088b4', 'part173a1a71385e042dd8771cc9e2db8cef3', 'part10036dcc16c474b1abaf14d1735a7e1cf', 'part167ddbe446fc64297b2127b464805f26c', 'part17faa1c86f3474f0282c275493180cd40', 'part11c0fea32321449c0a15e01a52d26adb7', 'part151e48966916042e09025036ba45bf4b3', 'part102288483ea75493bb5fb44c87c7edc99', 'part12cf73ba4b3144cf4b3ddd7fee18c71ca', 'part132fc80b5a2b742fcab930e1323c18ab8', 'part14e771a04483649f9b97232cdbf895ea1', 'part177bc194ea1444c6cb3705844c39b15d9', 'part1144be7cbb9684ba0897edc7e5f9b64f1', 'part10890b16bcf0946658e4406bafedf8a09', 'part13e7c14aca91f4a7f81c61e44bc4fad6f', 'part15df775ef1923437fa5f23808a0eebb64', 'part102dc97afabca47338fc8097fd8236bb9', 'part12cde6601968e4ca5872f8b52acf15f79']\n"
      ]
    },
    {
      "cell_type": "markdown",
      "metadata": {
        "id": "KW6tD1XyJ9QS"
      },
      "source": [
        "# Writing the path and position of images"
      ]
    },
    {
      "cell_type": "code",
      "source": [
        "# writing path of images"
      ],
      "metadata": {
        "id": "m_oIkDEVXqvg"
      },
      "execution_count": 5,
      "outputs": []
    },
    {
      "cell_type": "code",
      "execution_count": null,
      "metadata": {
        "id": "7pVsfiC2cBzU"
      },
      "outputs": [],
      "source": [
        "for index, col in a.iteritems():\n",
        "    for index, items in enumerate(col):\n",
        "        \n",
        "      if type(items)!=float:\n",
        "            if id in items.keys():\n",
        "              if \"img_name\" in items.keys() and items[\"flight_id\"] in listid:\n",
        "                filename1=items[\"img_name\"]\n",
        "                # fo = open(\"Images/\" + filename[:-4] + \".txt\", 'a', encoding='utf-8')\n",
        "                filename2=\"/content/drive/MyDrive/imagename.txt\"\n",
        "                with open(filename2,'a',encoding='utf-8') as fo1:\n",
        "                  fo1.write(filename1)\n",
        "                  fo1.write('\\n')\n"
      ]
    },
    {
      "cell_type": "code",
      "execution_count": null,
      "metadata": {
        "id": "OUXIpx0mY51_"
      },
      "outputs": [],
      "source": [
        "#write the images' path\n",
        "file_dir='/content/drive/My Drive/Colab Notebooks/coco/images/test2017'\n",
        "for root, dirs, files in os.walk(file_dir):  \n",
        "        for dirs in files:\n",
        "\n",
        "            if os.path.splitext(dirs)[1] == '.jpg' or os.path.splitext(dirs)[1] == '.png':\n",
        "              filename2=\"/content/drive/MyDrive/Colab Notebooks/coco/images/test2017.txt\"\n",
        "              with open(filename2,'a',encoding='utf-8') as fo1:\n",
        "                fo1.write(os.path.join(root,dirs))\n",
        "                fo1.write('\\n')"
      ]
    },
    {
      "cell_type": "code",
      "execution_count": null,
      "metadata": {
        "id": "pMR7IkA0dlIi"
      },
      "outputs": [],
      "source": [
        "#write the images' path\n",
        "file_dir='/content/drive/My Drive/Colab Notebooks/datasets/coco/images/train2017'\n",
        "for root, dirs, files in os.walk(file_dir):  \n",
        "        for dirs in files:\n",
        "\n",
        "            if os.path.splitext(dirs)[1] == '.jpg' or os.path.splitext(dirs)[1] == '.png':\n",
        "              filename2=\"/content/drive/MyDrive/Colab Notebooks/datasets/coco/images/train2017.txt\"\n",
        "              with open(filename2,'a',encoding='utf-8') as fo1:\n",
        "                fo1.write(os.path.join(root,dirs))\n",
        "                fo1.write('\\n')"
      ]
    },
    {
      "cell_type": "code",
      "execution_count": null,
      "metadata": {
        "id": "cDFqpwi3v5Zy"
      },
      "outputs": [],
      "source": [
        "#write the images' path\n",
        "file_dir='/content/drive/My Drive/Colab Notebooks/datasets/coco/images/val2017'\n",
        "for root, dirs, files in os.walk(file_dir):  \n",
        "        for dirs in files:\n",
        "\n",
        "            if os.path.splitext(dirs)[1] == '.jpg' or os.path.splitext(dirs)[1] == '.png':\n",
        "              filename2=\"/content/drive/MyDrive/Colab Notebooks/datasets/coco/images/val2017.txt\"\n",
        "              with open(filename2,'a',encoding='utf-8') as fo1:\n",
        "                fo1.write(os.path.join(root,dirs))\n",
        "                fo1.write('\\n')"
      ]
    },
    {
      "cell_type": "code",
      "execution_count": null,
      "metadata": {
        "id": "2sD6HN6P3Brr"
      },
      "outputs": [],
      "source": [
        "import shutil\n",
        "path = '/content/drive/MyDrive/Colab Notebooks/Images/'\t#数据集路径\n",
        "#循环遍历lfw数据集下的所有子文件\n",
        "for name_file in os.listdir(path):\n",
        "#遍历子文件下的所有图片文件\n",
        "    for img_file in os.listdir(path+name_file):\n",
        "      if not os.path.exists(\"/content/drive/MyDrive/Colab Notebooks/train2017/\"+img_file):\n",
        "     \n",
        "     \n",
        "        shutil.move(path+name_file+'/'+img_file, \"/content/drive/MyDrive/Colab Notebooks/train2017/\" )\n"
      ]
    },
    {
      "cell_type": "code",
      "source": [
        "# Writing the position of boxing box"
      ],
      "metadata": {
        "id": "nQ83AL0xWrM-"
      },
      "execution_count": 4,
      "outputs": []
    },
    {
      "cell_type": "code",
      "source": [
        "import json\n",
        "\n",
        "write_label_for_nobb = False\n",
        "truth_file = open(\"/content/drive/MyDrive/Colab Notebooks/part1/groundtruth.json\", \"r\")\n",
        "dic = json.load(truth_file)[\"samples\"]\n",
        "objList = dict()\n",
        "parentPath = \"/content/drive/MyDrive/Colab Notebooks/datasets/coco/label\""
      ],
      "metadata": {
        "id": "KuKYPwofy-kW"
      },
      "execution_count": null,
      "outputs": []
    },
    {
      "cell_type": "code",
      "source": [
        "pics = set()\n",
        "img_files = [\"/content/drive/MyDrive/Colab Notebooks/datasets/coco/images/test2017.txt\", \"/content/drive/MyDrive/Colab Notebooks/datasets/coco/images/val2017.txt\", \"/content/drive/MyDrive/Colab Notebooks/datasets/coco/images/train2017.txt\"]\n",
        "for file in img_files:\n",
        "    f = open(file, \"r\")\n",
        "    for line in f.readlines():\n",
        "        name = line.strip().split(os.sep)[-1].split(\".\")[0]\n",
        "        pics.add(name)\n"
      ],
      "metadata": {
        "id": "tJaC1-cEkJe0"
      },
      "execution_count": null,
      "outputs": []
    },
    {
      "cell_type": "code",
      "source": [
        "\n",
        "test = 0\n",
        "val = 0\n",
        "train = 0\n",
        "cnt = set()\n",
        "for flightId, flight in dic.items():\n",
        "    # For test dataset\n",
        "    if (\"part1\" + flightId) in test_flight_id:\n",
        "        usage = \"/test2017/\"\n",
        "        test += 1\n",
        "    # If not in test but in validation\n",
        "    elif (\"part1\" + flightId) in valid_flight_id:\n",
        "        usage = \"/val2017/\"\n",
        "        val += 1\n",
        "    # Anything else\n",
        "    else:\n",
        "        usage = \"/train2017/\"\n",
        "        train += 1\n",
        "\n",
        "    # Progress\n",
        "    if (test + val + train) % 100 == 0:\n",
        "        print(\"%d test, %d validation, %d train done so far\" % (test, val, train))\n",
        "\n",
        "    height = flight[\"metadata\"][\"resolution\"][\"height\"]\n",
        "    width = flight[\"metadata\"][\"resolution\"][\"width\"]\n",
        "    for entity in flight[\"entities\"]:\n",
        "        filename = entity[\"img_name\"].split(\".\")[0]\n",
        "        if filename not in pics:\n",
        "            continue\n",
        "        filename = parentPath + usage + filename + \".txt\"\n",
        "        # Create labels for w/ bb\n",
        "        if \"bb\" in entity:\n",
        "            if entity[\"id\"] in objList:\n",
        "                id = objList[entity[\"id\"]]\n",
        "            else:\n",
        "                id = len(objList)\n",
        "                objList[entity[\"id\"]] = len(objList)\n",
        "            dim = entity[\"bb\"]\n",
        "            with open(filename, \"a\") as f:\n",
        "                f.write(\"%d %f %f %f %f\\n\" % (id, dim[0] / width, dim[1] / height, dim[2] / width,\n",
        "                                              dim[3] / height))\n",
        "            f.close()\n",
        "            cnt.add(filename)\n",
        "        # Create labels for w/0 bb\n",
        "        elif write_label_for_nobb:\n",
        "            with open(filename, \"a\") as f:\n",
        "                f.write(\"%d %f %f %f %f\\n\" % (id, dim[0] / width, dim[1] / height, dim[2] / width,\n",
        "                                              dim[3] / height))\n",
        "            f.close()\n",
        "\n",
        "print(f\"{len(cnt)} labels have been created\")\n"
      ],
      "metadata": {
        "colab": {
          "base_uri": "https://localhost:8080/"
        },
        "id": "AIqyXmQ3lSeO",
        "outputId": "884fb8da-06bc-4550-918e-0bdd0bca6d07"
      },
      "execution_count": null,
      "outputs": [
        {
          "output_type": "stream",
          "name": "stdout",
          "text": [
            "3 test, 6 validation, 91 train done so far\n",
            "8 test, 10 validation, 182 train done so far\n",
            "15 test, 15 validation, 270 train done so far\n",
            "24 test, 22 validation, 354 train done so far\n",
            "32 test, 28 validation, 440 train done so far\n",
            "38 test, 32 validation, 530 train done so far\n",
            "48 test, 40 validation, 612 train done so far\n",
            "56 test, 42 validation, 702 train done so far\n",
            "60 test, 54 validation, 786 train done so far\n",
            "69 test, 62 validation, 869 train done so far\n",
            "74 test, 74 validation, 952 train done so far\n",
            "79 test, 81 validation, 1040 train done so far\n",
            "84 test, 86 validation, 1130 train done so far\n",
            "55095 labels have been created\n"
          ]
        }
      ]
    }
  ],
  "metadata": {
    "colab": {
      "machine_shape": "hm",
      "name": "UAVdata.ipynb",
      "provenance": [],
      "collapsed_sections": []
    },
    "kernelspec": {
      "display_name": "Python 3",
      "name": "python3"
    },
    "language_info": {
      "name": "python"
    }
  },
  "nbformat": 4,
  "nbformat_minor": 0
}